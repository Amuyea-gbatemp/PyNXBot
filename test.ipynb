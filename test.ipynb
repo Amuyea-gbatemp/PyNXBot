{
 "cells": [
  {
   "cell_type": "code",
   "execution_count": null,
   "metadata": {},
   "outputs": [],
   "source": [
    "from rng import Raid\n",
    "\n",
    "PID = 0x9c86F7F8\n",
    "EC = 0x9dffc477\n",
    "IVs = [14,31,31,31,10,24]\n",
    "\n",
    "results = Raid.getseeds(EC,PID,IVs)\n",
    "\n",
    "for result in results:\n",
    "\tprint(f\"{result[0]:X}\")"
   ]
  }
 ],
 "metadata": {
  "kernelspec": {
   "display_name": "Python 3",
   "language": "python",
   "name": "python3"
  },
  "language_info": {
   "codemirror_mode": {
    "name": "ipython",
    "version": 3
   },
   "file_extension": ".py",
   "mimetype": "text/x-python",
   "name": "python",
   "nbconvert_exporter": "python",
   "pygments_lexer": "ipython3",
   "version": "3.8.4"
  }
 },
 "nbformat": 4,
 "nbformat_minor": 4
}
